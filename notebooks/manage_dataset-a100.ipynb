{
 "cells": [
  {
   "cell_type": "code",
   "execution_count": 1,
   "metadata": {},
   "outputs": [],
   "source": [
    "from dl_utils.utils.datafed_functions import datafed_download, datafed_upload"
   ]
  },
  {
   "cell_type": "code",
   "execution_count": 4,
   "metadata": {},
   "outputs": [
    {
     "name": "stdout",
     "output_type": "stream",
     "text": [
      "(task {\n",
      "  id: \"task/525800759\"\n",
      "  type: TT_DATA_PUT\n",
      "  status: TS_SUCCEEDED\n",
      "  client: \"u/yig319\"\n",
      "  step: 3\n",
      "  steps: 4\n",
      "  msg: \"Finished\"\n",
      "  ct: 1741274900\n",
      "  ut: 1741275275\n",
      "  source: \"46c32934-b552-11ee-b08b-4bb870e392e2/mnt/scratch/home/yichen/Understanding-Experimental-Images-by-Identifying-Symmetries-with-Deep-Learning/datasets/imagenet_v5_rot_10k_fix_vector_a100_0.h5\"\n",
      "  dest: \"d/525661239\"\n",
      "}\n",
      ", 'TaskDataReply')\n"
     ]
    }
   ],
   "source": [
    "datafed_upload('../datasets/imagenet_v5_rot_10k_fix_vector_a100_0.h5', 'c/525610896')"
   ]
  },
  {
   "cell_type": "code",
   "execution_count": null,
   "metadata": {},
   "outputs": [],
   "source": []
  }
 ],
 "metadata": {
  "kernelspec": {
   "display_name": "symmetry",
   "language": "python",
   "name": "python3"
  },
  "language_info": {
   "codemirror_mode": {
    "name": "ipython",
    "version": 3
   },
   "file_extension": ".py",
   "mimetype": "text/x-python",
   "name": "python",
   "nbconvert_exporter": "python",
   "pygments_lexer": "ipython3",
   "version": "3.11.11"
  }
 },
 "nbformat": 4,
 "nbformat_minor": 2
}
