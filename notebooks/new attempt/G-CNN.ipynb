{
 "cells": [
  {
   "cell_type": "code",
   "execution_count": 1,
   "metadata": {},
   "outputs": [
    {
     "name": "stderr",
     "output_type": "stream",
     "text": [
      "/mnt/scratch/home/yichen/anaconda3/envs/symmetry/lib/python3.11/site-packages/tqdm/auto.py:21: TqdmWarning: IProgress not found. Please update jupyter and ipywidgets. See https://ipywidgets.readthedocs.io/en/stable/user_install.html\n",
      "  from .autonotebook import tqdm as notebook_tqdm\n"
     ]
    }
   ],
   "source": [
    "%load_ext autoreload\n",
    "%autoreload 2\n",
    "import torch\n",
    "import torch.nn as nn\n",
    "from torchvision import transforms\n",
    "from torch.utils.data import DataLoader\n",
    "from dl_utils.utils.dataset import viz_dataloader, split_train_valid, hdf5_dataset\n",
    "from dl_utils.training.build_model import xcit_small\n",
    "from dl_utils.training.trainer import Trainer, accuracy\n",
    "from dl_utils.packed_functions import benchmark_task\n",
    "\n",
    "ds_path_info = {'imagenet': '../../datasets/imagenet_v5_rot_10m_fix_vector.h5',\n",
    "                'noise': '../../datasets/noise_v5_rot_1m_fix_vector.h5',\n",
    "                'atom': '../../datasets/atom_v5_rot_1m_fix_vector.h5',\n",
    "                'viz_dataloader': False}\n",
    "\n",
    "training_specs = {'batch_size': 400, \n",
    "                  'num_workers': 12, \n",
    "                  'device_ids': [7,8,9], \n",
    "                  'shuffle': True,\n",
    "                  'learning_rate': 1e-3,\n",
    "                  'validation_times': 200,\n",
    "                  'training_image_count': 10000000*20, # 20 epochs of 10 million images of full imagenet dataset\n",
    "                  'efficient_print': True,\n",
    "                  'model_path': '../../models/XCiT/'\n",
    "                  }\n",
    "\n",
    "\n",
    "config = {'loss_func': 'CrossEntropyLoss', # nn.MSELoss()\n",
    "          'optimizer': 'Adam',\n",
    "          'scheduler': 'OneCycleLR'}\n",
    "    \n",
    "wandb_specs = {'config': config,\n",
    "                'project': 'Understanding-Experimental-Images-by-Identifying-Symmetries-with-Deep-Learning',\n",
    "                'entity': 'yig319',\n",
    "                'group': 'test',\n",
    "                'save_code': True,\n",
    "                'resume': 'allow'}\n",
    "\n",
    "model = xcit_small(in_channels=3, n_classes=17)\n",
    "task_name = '03132025-XCiT-benchmark'"
   ]
  },
  {
   "cell_type": "markdown",
   "metadata": {},
   "source": [
    "### 500K dataset"
   ]
  },
  {
   "cell_type": "code",
   "execution_count": null,
   "metadata": {},
   "outputs": [],
   "source": [
    "training_specs['ds_size'] = 500000\n",
    "training_specs['folder_name'] = task_name + '-500k'\n",
    "model, history = benchmark_task(task_name, model, training_specs=training_specs, ds_path_info=ds_path_info, wandb_specs=wandb_specs)"
   ]
  }
 ],
 "metadata": {
  "kernelspec": {
   "display_name": "symmetry",
   "language": "python",
   "name": "python3"
  },
  "language_info": {
   "codemirror_mode": {
    "name": "ipython",
    "version": 3
   },
   "file_extension": ".py",
   "mimetype": "text/x-python",
   "name": "python",
   "nbconvert_exporter": "python",
   "pygments_lexer": "ipython3",
   "version": "3.11.11"
  }
 },
 "nbformat": 4,
 "nbformat_minor": 2
}
