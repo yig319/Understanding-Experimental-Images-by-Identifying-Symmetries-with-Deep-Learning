{
 "cells": [
  {
   "cell_type": "code",
   "execution_count": null,
   "id": "0917201a",
   "metadata": {},
   "outputs": [
    {
     "name": "stdout",
     "output_type": "stream",
     "text": [
      "The autoreload extension is already loaded. To reload it, use:\n",
      "  %reload_ext autoreload\n"
     ]
    }
   ],
   "source": [
    "%load_ext autoreload\n",
    "%autoreload 2\n",
    "import numpy as np\n",
    "import h5py\n",
    "import json"
   ]
  },
  {
   "cell_type": "markdown",
   "id": "e5ec6fba",
   "metadata": {},
   "source": [
    "### viz the metadata"
   ]
  },
  {
   "cell_type": "code",
   "execution_count": 23,
   "id": "32e161e6",
   "metadata": {},
   "outputs": [
    {
     "name": "stdout",
     "output_type": "stream",
     "text": [
      "Loaded dictionary: {'p1': 0, 'p2': 1, 'pm': 2, 'pg': 3, 'cm': 4, 'pmm': 5, 'pmg': 6, 'pgg': 7, 'cmm': 8, 'p4': 9, 'p4m': 10, 'p4g': 11, 'p3': 12, 'p3m1': 13, 'p31m': 14, 'p6': 15, 'p6m': 16}\n",
      "Loaded dictionary: {'rectangular': 0, 'square': 0, 'oblique': 1, 'hexagonal': 1, 'rhombic': 2, 'triangle': 3}\n",
      "Datasets in the file:\n",
      "  labels -> shape: (10013,), dtype: uint8\n",
      "    description: Original wallpaper group labels (uint8).\n",
      "  labels_one_hot -> shape: (10013, 17), dtype: float64\n",
      "    description: One-hot encoded labels for 17 wallpaper groups.\n",
      "  reflection_labels -> shape: (10013,), dtype: uint8\n",
      "    description: Reflection class: 0=No reflection, 1=With reflection.\n",
      "  reflection_one_hot -> shape: (10013, 2), dtype: float64\n",
      "    description: One-hot encoding of reflection class.\n",
      "  rotation_labels -> shape: (10013,), dtype: uint8\n",
      "    description: Rotation axis class: 0=No rotation, 1=2-fold, 2=3-fold.\n",
      "  rotation_one_hot -> shape: (10013, 3), dtype: float64\n",
      "    description: One-hot encoding of rotation axis class.\n",
      "  shape -> shape: (10013,), dtype: uint8\n",
      "    description: Shape labels for each sample, stored as integers (uint8). These indicate the shape class (0 to 3).\n",
      "  shape_one_hot -> shape: (10013, 4), dtype: float64\n",
      "    description: One-hot encoded shape classes (4 classes). Each row corresponds to a shape label.\n",
      "  sub_rotation_labels -> shape: (10013,), dtype: uint8\n",
      "    description: Sub-rotation class: For 2-fold groups, 0=No 4-fold, 1=With 4-fold. For 3-fold groups, 0=No 6-fold, 1=With 6-fold. For no rotation, always 0.\n",
      "  sub_rotation_one_hot -> shape: (10013, 2), dtype: float64\n",
      "    description: One-hot encoding of sub-rotation class.\n",
      "\n",
      "File description:\n",
      "This HDF5 file contains wallpaper group labels and their hierarchical encoding: rotation axis (Level 1), sub-rotation (Level 2), and reflection (Level 3), with one-hot versions for each level.\n"
     ]
    }
   ],
   "source": [
    "file_path = \"../../datasets/imagenet_v5_rot_10k_fix_vector_a100_0-hierarchy_one_hot_encoding.h5\"\n",
    "\n",
    "with h5py.File(file_path, \"r\") as f:\n",
    "    loaded_dict = json.loads(f.attrs[\"symmetry_dict\"])\n",
    "    print(\"Loaded dictionary:\", loaded_dict)\n",
    "    \n",
    "    loaded_dict = json.loads(f.attrs[\"shape_dict\"])\n",
    "    print(\"Loaded dictionary:\", loaded_dict)\n",
    "    \n",
    "    print(\"Datasets in the file:\")\n",
    "    for name in f.keys():\n",
    "        print(f\"  {name} -> shape: {f[name].shape}, dtype: {f[name].dtype}\")\n",
    "        print(\"    description:\", f[name].attrs.get('description', 'No description'))\n",
    "    \n",
    "    print(\"\\nFile description:\")\n",
    "    print(f.attrs.get('description', 'No description'))"
   ]
  },
  {
   "cell_type": "code",
   "execution_count": 24,
   "id": "fcd6869d",
   "metadata": {},
   "outputs": [
    {
     "name": "stdout",
     "output_type": "stream",
     "text": [
      "Sample 0:\n",
      "  Wallpaper Group Label: 8\n",
      "  Rotation Class: 1 (0=No rotation, 1=2-fold, 2=3-fold)\n",
      "  Sub-Rotation: 0 (0/1 depending on 4/6-fold)\n",
      "  Reflection: 1 (0=No reflection, 1=With reflection)\n"
     ]
    }
   ],
   "source": [
    "with h5py.File(file_path, \"r\") as f:\n",
    "    idx = 0  # choose a record\n",
    "    label = f[\"labels\"][idx]\n",
    "    rotation = f[\"rotation_labels\"][idx]\n",
    "    sub_rotation = f[\"sub_rotation_labels\"][idx]\n",
    "    reflection = f[\"reflection_labels\"][idx]\n",
    "\n",
    "    print(f\"Sample {idx}:\")\n",
    "    print(f\"  Wallpaper Group Label: {label}\")\n",
    "    print(f\"  Rotation Class: {rotation} (0=No rotation, 1=2-fold, 2=3-fold)\")\n",
    "    print(f\"  Sub-Rotation: {sub_rotation} (0/1 depending on 4/6-fold)\")\n",
    "    print(f\"  Reflection: {reflection} (0=No reflection, 1=With reflection)\")"
   ]
  },
  {
   "cell_type": "code",
   "execution_count": 25,
   "id": "416f6cb4",
   "metadata": {},
   "outputs": [
    {
     "name": "stdout",
     "output_type": "stream",
     "text": [
      "    Label  Rotation  SubRotation  Reflection\n",
      "0       8         1            0           1\n",
      "1       9         1            1           0\n",
      "2       6         1            0           0\n",
      "3      12         2            0           0\n",
      "4       7         1            0           1\n",
      "5      13         2            0           1\n",
      "6       3         0            0           0\n",
      "7      16         2            1           1\n",
      "8       4         0            0           1\n",
      "9      14         2            0           1\n",
      "10      4         0            0           1\n",
      "11     14         2            0           1\n",
      "12     13         2            0           1\n",
      "13      1         1            0           0\n",
      "14      4         0            0           1\n",
      "15      5         1            0           1\n",
      "16      5         1            0           1\n",
      "17      2         0            0           1\n",
      "18      3         0            0           0\n",
      "19     10         1            1           1\n"
     ]
    }
   ],
   "source": [
    "import pandas as pd\n",
    "\n",
    "with h5py.File(file_path, \"r\") as f:\n",
    "    n = 20  # first 20 records\n",
    "    df = pd.DataFrame({\n",
    "        \"Label\": f[\"labels\"][:n],\n",
    "        \"Rotation\": f[\"rotation_labels\"][:n],\n",
    "        \"SubRotation\": f[\"sub_rotation_labels\"][:n],\n",
    "        \"Reflection\": f[\"reflection_labels\"][:n]\n",
    "    })\n",
    "print(df)\n"
   ]
  },
  {
   "cell_type": "code",
   "execution_count": null,
   "id": "872fc6c4",
   "metadata": {},
   "outputs": [],
   "source": []
  },
  {
   "cell_type": "code",
   "execution_count": null,
   "id": "04d8013b",
   "metadata": {},
   "outputs": [],
   "source": [
    "symmetry_dict = {'p1': 0, 'p2': 1, 'pm': 2, 'pg': 3, 'cm': 4, 'pmm': 5, 'pmg': 6, 'pgg': 7, 'cmm': 8, 'p4': 9, 'p4m': 10, 'p4g': 11, 'p3': 12, 'p3m1': 13, 'p31m': 14, 'p6': 15, 'p6m': 16}\n",
    "shape_dict = { 'rectangular': 0, 'square': 0, 'oblique': 1, 'hexagonal': 1, 'rhombic': 2, 'triangle': 3 }\n"
   ]
  },
  {
   "cell_type": "code",
   "execution_count": null,
   "id": "5a844d60",
   "metadata": {},
   "outputs": [],
   "source": []
  }
 ],
 "metadata": {
  "kernelspec": {
   "display_name": "symmetry",
   "language": "python",
   "name": "python3"
  },
  "language_info": {
   "codemirror_mode": {
    "name": "ipython",
    "version": 3
   },
   "file_extension": ".py",
   "mimetype": "text/x-python",
   "name": "python",
   "nbconvert_exporter": "python",
   "pygments_lexer": "ipython3",
   "version": "3.11.0"
  }
 },
 "nbformat": 4,
 "nbformat_minor": 5
}
