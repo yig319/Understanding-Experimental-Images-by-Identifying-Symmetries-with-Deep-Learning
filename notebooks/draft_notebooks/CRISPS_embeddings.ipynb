{
 "cells": [
  {
   "cell_type": "code",
   "execution_count": null,
   "id": "0917201a",
   "metadata": {},
   "outputs": [
    {
     "ename": "ModuleNotFoundError",
     "evalue": "No module named 'build_model'",
     "output_type": "error",
     "traceback": [
      "\u001b[0;31m---------------------------------------------------------------------------\u001b[0m",
      "\u001b[0;31mModuleNotFoundError\u001b[0m                       Traceback (most recent call last)",
      "Cell \u001b[0;32mIn[1], line 15\u001b[0m\n\u001b[1;32m     13\u001b[0m sys\u001b[38;5;241m.\u001b[39mpath\u001b[38;5;241m.\u001b[39mappend(\u001b[38;5;124m'\u001b[39m\u001b[38;5;124m../../../src/benchmark/\u001b[39m\u001b[38;5;124m'\u001b[39m)\n\u001b[1;32m     14\u001b[0m sys\u001b[38;5;241m.\u001b[39mpath\u001b[38;5;241m.\u001b[39mappend(\u001b[38;5;124m'\u001b[39m\u001b[38;5;124m../../../src/utils/\u001b[39m\u001b[38;5;124m'\u001b[39m)\n\u001b[0;32m---> 15\u001b[0m \u001b[38;5;28;01mfrom\u001b[39;00m\u001b[38;5;250m \u001b[39m\u001b[38;5;21;01mbuild_model\u001b[39;00m\u001b[38;5;250m \u001b[39m\u001b[38;5;28;01mimport\u001b[39;00m resnet50_, densenet161_, fpn_resnet50_classification, xcit_small\n\u001b[1;32m     16\u001b[0m \u001b[38;5;28;01mfrom\u001b[39;00m\u001b[38;5;250m \u001b[39m\u001b[38;5;21;01mutils\u001b[39;00m\u001b[38;5;250m \u001b[39m\u001b[38;5;28;01mimport\u001b[39;00m hdf5_dataset, list_to_dict, viz_dataloader\n\u001b[1;32m     17\u001b[0m \u001b[38;5;28;01mfrom\u001b[39;00m\u001b[38;5;250m \u001b[39m\u001b[38;5;21;01mprediction_analysis\u001b[39;00m\u001b[38;5;250m \u001b[39m\u001b[38;5;28;01mimport\u001b[39;00m confusion_matrix, plot_cm, prediction_vs_actual, most_confused, show_cm\n",
      "\u001b[0;31mModuleNotFoundError\u001b[0m: No module named 'build_model'"
     ]
    }
   ],
   "source": [
    "%load_ext autoreload\n",
    "%autoreload 2\n",
    "import os\n",
    "import glob\n",
    "import numpy as np\n",
    "import matplotlib.pyplot as plt\n",
    "import torch\n",
    "import torch.nn as nn\n",
    "import torch.nn.functional as F\n",
    "from torchvision import datasets, transforms, models\n",
    "from torch.utils.data import DataLoader, Dataset\n",
    "import sys\n",
    "sys.path.append('../../../src/benchmark/')\n",
    "sys.path.append('../../../src/utils/')\n",
    "from dl_utils.build_model import resnet50_, densenet161_, fpn_resnet50_classification, xcit_small\n",
    "from utils import hdf5_dataset, list_to_dict, viz_dataloader\n",
    "from prediction_analysis import confusion_matrix, plot_cm, prediction_vs_actual, most_confused, show_cm"
   ]
  },
  {
   "cell_type": "code",
   "execution_count": null,
   "id": "24691a28",
   "metadata": {},
   "outputs": [],
   "source": [
    "symmetry_classes = ['p1', 'p2', 'pm', 'pg', 'cm', 'pmm', 'pmg', 'pgg', 'cmm', 'p4', 'p4m', 'p4g', 'p3', 'p3m1', 'p31m', 'p6', 'p6m']\n",
    "label_converter = list_to_dict(symmetry_classes)\n",
    "\n",
    "cv_atom_noised_ds = hdf5_dataset('../../../datasets/atom_noised_v4_rot_500K.h5', folder='test', transform=transforms.ToTensor())\n",
    "cv_atom_noised_dl = DataLoader(cv_atom_noised_ds, batch_size=1028, shuffle=False, num_workers=2)\n",
    "viz_dataloader(cv_atom_noised_dl, label_converter=label_converter)"
   ]
  },
  {
   "cell_type": "code",
   "execution_count": null,
   "id": "cdf003b0",
   "metadata": {},
   "outputs": [],
   "source": [
    "model = torch.load('../../../saved_models/05312023-benchmark-resnet50_from_scratch-v4_10m-epoch-20.pt')\n",
    "device = torch.device('cuda:1')"
   ]
  },
  {
   "cell_type": "code",
   "execution_count": null,
   "id": "d6dbaa0f",
   "metadata": {},
   "outputs": [],
   "source": [
    "cm = confusion_matrix(model, cv_atom_noised_dl, symmetry_classes, device, n_batches='all')\n",
    "np.save(f'../../../saved_results/Benchmark/ResNet50/{NAME}-cv_atom_noised_cm.npy', cm)"
   ]
  },
  {
   "cell_type": "code",
   "execution_count": null,
   "id": "d6b4aa6a",
   "metadata": {},
   "outputs": [],
   "source": [
    "plot_cm(cm, symmetry_classes, title='ResNet50-atom_noised', cm_style='simple', fig_style='printing', font_size=4)"
   ]
  },
  {
   "cell_type": "code",
   "execution_count": null,
   "id": "eb6cd56c",
   "metadata": {},
   "outputs": [],
   "source": []
  }
 ],
 "metadata": {
  "kernelspec": {
   "display_name": "symmetry",
   "language": "python",
   "name": "python3"
  },
  "language_info": {
   "codemirror_mode": {
    "name": "ipython",
    "version": 3
   },
   "file_extension": ".py",
   "mimetype": "text/x-python",
   "name": "python",
   "nbconvert_exporter": "python",
   "pygments_lexer": "ipython3",
   "version": "3.11.0"
  }
 },
 "nbformat": 4,
 "nbformat_minor": 5
}
