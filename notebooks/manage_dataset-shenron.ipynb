{
 "cells": [
  {
   "cell_type": "code",
   "execution_count": 2,
   "metadata": {},
   "outputs": [],
   "source": [
    "from dl_utils.utils.datafed_functions import datafed_download"
   ]
  },
  {
   "cell_type": "code",
   "execution_count": 3,
   "metadata": {},
   "outputs": [
    {
     "name": "stdout",
     "output_type": "stream",
     "text": [
      "Unable to connect to pypi: <Fault -32500: 'RuntimeError: PyPI no longer supports the XMLRPC package_releases method. Use JSON or Simple API instead. See https://warehouse.pypa.io/api-reference/xml-rpc.html#deprecated-methods for more information.'>\n",
      "(item {\n",
      "  id: \"d/525662311\"\n",
      "  title: \"model_epoch_20.pth\"\n",
      "  owner: \"p/2023_wallpaper_group_symmetry\"\n",
      "  size: 103517587\n",
      "}\n",
      "task {\n",
      "  id: \"task/525801845\"\n",
      "  type: TT_DATA_GET\n",
      "  status: TS_READY\n",
      "  client: \"u/yig319\"\n",
      "  step: 0\n",
      "  steps: 2\n",
      "  msg: \"Pending\"\n",
      "  ct: 1741701273\n",
      "  ut: 1741701273\n",
      "  source: \"d/525662311\"\n",
      "  dest: \"337dcfda-87db-11ef-8ebd-4177e580d0c6/mnt/scratch/yichen/Understanding-Experimental-Images-by-Identifying-Symmetries-with-Deep-Learning/models\"\n",
      "}\n",
      ", 'DataGetReply')\n"
     ]
    }
   ],
   "source": [
    "datafed_download('../models/', file_id='d/525662311', wait=False)"
   ]
  },
  {
   "cell_type": "code",
   "execution_count": null,
   "metadata": {},
   "outputs": [],
   "source": []
  }
 ],
 "metadata": {
  "kernelspec": {
   "display_name": "Python 3",
   "language": "python",
   "name": "python3"
  },
  "language_info": {
   "codemirror_mode": {
    "name": "ipython",
    "version": 3
   },
   "file_extension": ".py",
   "mimetype": "text/x-python",
   "name": "python",
   "nbconvert_exporter": "python",
   "pygments_lexer": "ipython3",
   "version": "3.10.13"
  }
 },
 "nbformat": 4,
 "nbformat_minor": 2
}
